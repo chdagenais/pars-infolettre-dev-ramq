{
 "cells": [
  {
   "cell_type": "code",
   "execution_count": 20,
   "metadata": {},
   "outputs": [
    {
     "name": "stderr",
     "output_type": "stream",
     "text": [
      "c:\\Users\\CharlesDagenais\\Documents\\git\\parse-infolettre-dev-ramq\\venv\\Lib\\site-packages\\tabula\\io.py:1045: FutureWarning: errors='ignore' is deprecated and will raise in a future version. Use to_numeric without passing `errors` and catch exceptions explicitly instead\n",
      "  df[c] = pd.to_numeric(df[c], errors=\"ignore\")\n"
     ]
    }
   ],
   "source": [
    "import pandas as pd\n",
    "import tabula as tb\n",
    "import openpyxl\n",
    "\n",
    "\n",
    "# TODO Modifier path avec le chemin du fichier à tester \n",
    "path=\"./example/info295-23.pdf\"\n",
    "\n",
    "filename = path.split(\"/\")[-1].strip(\".pdf\")\n",
    "# Read pdf and output table into a dataframe\n",
    "df = tb.read_pdf(path, pages='all',stream=True)\n"
   ]
  },
  {
   "cell_type": "code",
   "execution_count": 21,
   "metadata": {},
   "outputs": [
    {
     "name": "stdout",
     "output_type": "stream",
     "text": [
      "                                                CHAMP  \\\n",
      "0                                 Code de facturation   \n",
      "1                         Date de début d’effectivité   \n",
      "2                           Date de fin d’effectivité   \n",
      "3                          Date de mise en production   \n",
      "4                                     Classe A.H.F.S.   \n",
      "5                        Code de dénomination commune   \n",
      "6                                       Code de forme   \n",
      "7                                      Code de teneur   \n",
      "8                                Dénomination commune   \n",
      "9                                               Forme   \n",
      "10                                             Teneur   \n",
      "11                                  Code(s) programme   \n",
      "12                            Catégorie de médicament   \n",
      "13                               Nature du médicament   \n",
      "14                       Indicateur de produit unique   \n",
      "15                       Pourcentage rabais grossiste   \n",
      "16                 Indicateur de format d’acquisition   \n",
      "17                                 Quantité du format   \n",
      "18                                    Prix du format*   \n",
      "19                                     Prix unitaire*   \n",
      "20                        Indicateur d’indivisibilité   \n",
      "21                      Code de statut d’assurabilité   \n",
      "22  Indicateur de marge bénéficiaire maximum du gr...   \n",
      "\n",
      "                       PRODUIT  \n",
      "0                     99114281  \n",
      "1                       231003  \n",
      "2                       999999  \n",
      "3                       231003  \n",
      "4                     24:06.04  \n",
      "5                        01989  \n",
      "6                        00116  \n",
      "7                        54412  \n",
      "8   CHOLESTYRAMINE (RÉSINE DE)  \n",
      "9                        CAPS.  \n",
      "10                      500 mg  \n",
      "11                          00  \n",
      "12                         REG  \n",
      "13                         MOF  \n",
      "14                           N  \n",
      "15                        0.00  \n",
      "16                           1  \n",
      "17                           1  \n",
      "18                        0.00  \n",
      "19                       0.000  \n",
      "20                         NON  \n",
      "21                          AS  \n",
      "22                           N  \n",
      "\n",
      "\n"
     ]
    }
   ],
   "source": [
    "# print all tables from the pdf to console\n",
    "for i in range(len(df)):\n",
    "    print(df[i])\n",
    "    print(\"\\n\")\n"
   ]
  },
  {
   "cell_type": "code",
   "execution_count": 22,
   "metadata": {},
   "outputs": [],
   "source": [
    "\n",
    "# df[0] contient le tableau de la page 1\n",
    "#use column CHAMP as index\n",
    "df[0].set_index('CHAMP', inplace=True)\n"
   ]
  },
  {
   "cell_type": "code",
   "execution_count": 23,
   "metadata": {},
   "outputs": [
    {
     "name": "stdout",
     "output_type": "stream",
     "text": [
      "                                                                       PRODUIT\n",
      "CHAMP                                                                         \n",
      "Code de facturation                                                   99114281\n",
      "Date de début d’effectivité                                             231003\n",
      "Date de fin d’effectivité                                               999999\n",
      "Date de mise en production                                              231003\n",
      "Classe A.H.F.S.                                                       24:06.04\n",
      "Code de dénomination commune                                             01989\n",
      "Code de forme                                                            00116\n",
      "Code de teneur                                                           54412\n",
      "Dénomination commune                                CHOLESTYRAMINE (RÉSINE DE)\n",
      "Forme                                                                    CAPS.\n",
      "Teneur                                                                  500 mg\n",
      "Code(s) programme                                                           00\n",
      "Catégorie de médicament                                                    REG\n",
      "Nature du médicament                                                       MOF\n",
      "Indicateur de produit unique                                                 N\n",
      "Pourcentage rabais grossiste                                              0.00\n",
      "Indicateur de format d’acquisition                                           1\n",
      "Quantité du format                                                           1\n",
      "Prix du format*                                                           0.00\n",
      "Prix unitaire*                                                           0.000\n",
      "Indicateur d’indivisibilité                                                NON\n",
      "Code de statut d’assurabilité                                               AS\n",
      "Indicateur de marge bénéficiaire maximum du gro...                           N\n"
     ]
    }
   ],
   "source": [
    "# print table to console\n",
    "print(df[0].head(30))\n"
   ]
  },
  {
   "cell_type": "code",
   "execution_count": null,
   "metadata": {},
   "outputs": [],
   "source": []
  },
  {
   "cell_type": "code",
   "execution_count": 24,
   "metadata": {},
   "outputs": [
    {
     "name": "stdout",
     "output_type": "stream",
     "text": [
      "                                                                       PRODUIT\n",
      "CHAMP                                                                         \n",
      "Code de facturation                                                   99114281\n",
      "Date de début d’effectivité                                             231003\n",
      "Date de fin d’effectivité                                               999999\n",
      "Date de mise en production                                              231003\n",
      "Classe A.H.F.S.                                                       24:06.04\n",
      "Code de dénomination commune                                             01989\n",
      "Code de forme                                                            00116\n",
      "Code de teneur                                                           54412\n",
      "Dénomination commune                                CHOLESTYRAMINE (RÉSINE DE)\n",
      "Forme                                                                    CAPS.\n",
      "Teneur                                                                  500 mg\n",
      "Code(s) programme                                                           00\n",
      "Catégorie de médicament                                                    REG\n",
      "Nature du médicament                                                       MOF\n",
      "Indicateur de produit unique                                                 N\n",
      "Pourcentage rabais grossiste                                              0.00\n",
      "Indicateur de format d’acquisition                                           1\n",
      "Quantité du format                                                           1\n",
      "Prix du format*                                                           0.00\n",
      "Prix unitaire*                                                           0.000\n",
      "Indicateur d’indivisibilité                                                NON\n",
      "Code de statut d’assurabilité                                               AS\n",
      "Indicateur de marge bénéficiaire maximum du gro...                           N\n"
     ]
    }
   ],
   "source": [
    "# Si la ligne précédant demonimation commune est nan , la fusionner avec la ligne dessous\n",
    "row_denomination = df[0].index.get_loc('Dénomination commune')\n",
    "\n",
    "if pd.isna(df[0].index[row_denomination-1]):\n",
    "    row_to_merge = df[0].index.get_loc('Dénomination commune') -1\n",
    "    print(df[0].iloc[row_to_merge-1])\n",
    "    #for each column, prepend the row to merge value with denomination commune row value and remove NaN row value\n",
    "    for i in range(len(df[0].columns)):\n",
    "        df[0].iloc[row_to_merge+1,i] = df[0].iloc[row_to_merge,i] + \" \" + df[0].iloc[row_to_merge+1,i]\n",
    "        df[0].iloc[row_to_merge,i] = None\n",
    "    # delete Nan row\n",
    "    df[0].dropna(inplace=True)\n",
    "\n",
    "print(df[0].head(30))\n"
   ]
  },
  {
   "cell_type": "code",
   "execution_count": 25,
   "metadata": {},
   "outputs": [],
   "source": [
    "# export data to csv\n",
    "df[0].to_csv(f'example/{filename}.csv')\n",
    "\n",
    "#to excel\n",
    "df[0].to_excel(f'example/{filename}.xlsx')\n"
   ]
  }
 ],
 "metadata": {
  "kernelspec": {
   "display_name": "venv",
   "language": "python",
   "name": "python3"
  },
  "language_info": {
   "codemirror_mode": {
    "name": "ipython",
    "version": 3
   },
   "file_extension": ".py",
   "mimetype": "text/x-python",
   "name": "python",
   "nbconvert_exporter": "python",
   "pygments_lexer": "ipython3",
   "version": "3.11.7"
  }
 },
 "nbformat": 4,
 "nbformat_minor": 2
}
